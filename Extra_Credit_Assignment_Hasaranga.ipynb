{
  "nbformat": 4,
  "nbformat_minor": 0,
  "metadata": {
    "colab": {
      "provenance": [],
      "toc_visible": true
    },
    "kernelspec": {
      "name": "python3",
      "display_name": "Python 3"
    },
    "language_info": {
      "name": "python"
    }
  },
  "cells": [
    {
      "cell_type": "markdown",
      "source": [
        "# Mathematical and Logical Foundations of Informatics INFO-H 611 (26951) - Fall 2023\n",
        "## Extra Credit Assignment - Notebook\n",
        "\n",
        "- Hasaranga Jayathilake"
      ],
      "metadata": {
        "id": "WYZE2gZif6aA"
      }
    },
    {
      "cell_type": "markdown",
      "source": [
        "# Setting up spark!"
      ],
      "metadata": {
        "id": "1OfZQutNgGDM"
      }
    },
    {
      "cell_type": "code",
      "execution_count": 1,
      "metadata": {
        "colab": {
          "base_uri": "https://localhost:8080/"
        },
        "id": "BgQcv7wQfMRQ",
        "outputId": "8de9f0db-7f1f-4863-8a0c-0f35a2784e8b"
      },
      "outputs": [
        {
          "output_type": "stream",
          "name": "stdout",
          "text": [
            "Drive already mounted at /content/drive; to attempt to forcibly remount, call drive.mount(\"/content/drive\", force_remount=True).\n"
          ]
        }
      ],
      "source": [
        "!apt-get install openjdk-8-jdk-headless -qq > /dev/null\n",
        "!wget -q https://archive.apache.org/dist/spark/spark-3.2.0/spark-3.2.0-bin-hadoop3.2.tgz\n",
        "!tar xf spark-3.2.0-bin-hadoop3.2.tgz\n",
        "!pip install -q findspark\n",
        "\n",
        "import os\n",
        "os.environ[\"JAVA_HOME\"] = \"/usr/lib/jvm/java-8-openjdk-amd64\"\n",
        "os.environ[\"SPARK_HOME\"] = \"spark-3.2.0-bin-hadoop3.2\"\n",
        "\n",
        "import findspark\n",
        "findspark.init()\n",
        "\n",
        "from pyspark.sql import SparkSession\n",
        "spark = SparkSession.builder.appName(\"NaiveBayesExample\").getOrCreate()\n",
        "sc = spark.sparkContext\n",
        "sc\n",
        "\n",
        "from google.colab import drive\n",
        "drive.mount('/content/drive')\n"
      ]
    },
    {
      "cell_type": "markdown",
      "source": [
        "# Importing Libraries"
      ],
      "metadata": {
        "id": "-ipLTsXWgYWd"
      }
    },
    {
      "cell_type": "code",
      "source": [
        "import pyspark.sql\n",
        "import numpy as np\n",
        "import matplotlib.pyplot as plt\n",
        "from pyspark.sql import Row\n",
        "from pyspark.sql.types import *\n",
        "import json\n",
        "from pyspark.sql.functions import col, sum, lit\n",
        "from math import sqrt\n",
        "from pyspark.mllib.stat import Statistics\n",
        "from pyspark.ml.linalg import Vectors\n",
        "from pyspark.ml.stat import Correlation\n",
        "from pyspark.ml.clustering import LDA\n",
        "import warnings\n",
        "from pyspark.ml.feature import VectorAssembler\n",
        "from pyspark.ml.classification import NaiveBayes\n",
        "from pyspark.ml import Pipeline\n",
        "from pyspark.ml.evaluation import MulticlassClassificationEvaluator\n",
        "from pyspark.mllib.clustering import *\n",
        "from pyspark.ml.linalg import Vectors\n",
        "from pyspark.mllib.tree import DecisionTree\n",
        "import pandas as pd\n",
        "from sklearn.model_selection import train_test_split\n",
        "from pyspark.ml.evaluation import BinaryClassificationEvaluator\n",
        "from pyspark.sql.functions import col\n",
        "from pyspark.sql import functions as F"
      ],
      "metadata": {
        "id": "NNDALb_Zgd4R"
      },
      "execution_count": 19,
      "outputs": []
    },
    {
      "cell_type": "markdown",
      "source": [
        " # Load and Prepare Data"
      ],
      "metadata": {
        "id": "7e6vtQyEhdZn"
      }
    },
    {
      "cell_type": "markdown",
      "source": [
        "## Loading Data"
      ],
      "metadata": {
        "id": "LHh3odvinyUJ"
      }
    },
    {
      "cell_type": "code",
      "source": [
        "df = spark.read.format(\"csv\").option(\"header\",\"true\").load(\"/content/drive/MyDrive/Project/ABL_Longline Sablefish Survey_ID_17218.csv\")\n",
        "df.createOrReplaceTempView(\"ABL_Survey\")\n",
        "\n",
        "q1 = spark.sql(\"SELECT * FROM ABL_Survey LIMIT 5\")\n",
        "q1.show(truncate=False)"
      ],
      "metadata": {
        "colab": {
          "base_uri": "https://localhost:8080/"
        },
        "id": "R_yFAgpdh0F_",
        "outputId": "740da2db-5a36-4905-c4f8-d58565f16c00"
      },
      "execution_count": 3,
      "outputs": [
        {
          "output_type": "stream",
          "name": "stdout",
          "text": [
            "+-------------+-------------+--------------+------------+----------+---------------------+-----+-----------+-------------+----+-----------------------+-------------+-------------+-----------+-----------+--------------+------------+---------------+-------------+---------+------------------+--------------+------------+--------+-------+--------+------+-----------+------------+---------------------------------+--------------------+-----------+-----------------------+----------------+----+------------------+-------------------+-----+----------+-----------------+--------+--------------+-----------------------------------------------+--------------------------------------------------+-------------------+----------------+----------+---------------+---------+---------------+-------------------+\n",
            "|cruise_number|vessel_number|station_number|species_code|catch_freq|common_name          |hachi|vessel_name|country      |year|haul_date              |start_hemi_ns|start_hemi_ew|end_hemi_ns|end_hemi_ew|set_start_time|set_end_time|haul_start_time|haul_end_time|soak_time|distance_fished   |starting_depth|ending_depth|intrpdep|stratum|stratum2|baited|ineffective|station_type|council_sablefish_management_area|geographic_area_name|exploitable|habitat_type           |depredation_flag|haul|stratumdescription|stratumdescription2|depth|depth_time|cruise_station_id|depth_id|nmfs_area_code|location_1                                     |location_2                                        |surface_temperature|gear_temperature|rpn_filter|mammal_sighting|tdr_depth|depredated_freq|non_depredated_freq|\n",
            "+-------------+-------------+--------------+------------+----------+---------------------+-----+-----------+-------------+----+-----------------------+-------------+-------------+-----------+-----------+--------------+------------+---------------+-------------+---------+------------------+--------------+------------+--------+-------+--------+------+-----------+------------+---------------------------------+--------------------+-----------+-----------------------+----------------+----+------------------+-------------------+-----+----------+-----------------+--------+--------------+-----------------------------------------------+--------------------------------------------------+-------------------+----------------+----------+---------------+---------+---------------+-------------------+\n",
            "|198801       |70           |62            |400         |1.0       |Skates unidentified  |1    |Prowler    |United States|1988|1988-07-07T00:00:00.000|N            |W            |N          |W          |641           |825         |935            |2100         |572      |8.6000003814697266|135           |480         |137     |2      |2a      |8     |1          |Standard    |Western Gulf of Alaska           |Shumagin Slope      |1.0        |Upper continental slope|0               |1   |101-200m          |101-150m           |137  |1017      |9                |1       |610           |{'latitude': '52.6', 'longitude': '-169.51784'}|{'latitude': '52.46833', 'longitude': '-169.5265'}|null               |null            |null      |null           |null     |null           |null               |\n",
            "|198801       |70           |62            |10120       |7.0       |Pacific halibut      |1    |Prowler    |United States|1988|1988-07-07T00:00:00.000|N            |W            |N          |W          |641           |825         |935            |2100         |572      |8.6000003814697266|135           |480         |137     |2      |2a      |8     |1          |Standard    |Western Gulf of Alaska           |Shumagin Slope      |1.0        |Upper continental slope|0               |1   |101-200m          |101-150m           |137  |1017      |9                |1       |610           |{'latitude': '52.6', 'longitude': '-169.51784'}|{'latitude': '52.46833', 'longitude': '-169.5265'}|null               |null            |null      |null           |null     |null           |null               |\n",
            "|198801       |70           |62            |21300       |3.0       |Sculpin, unidentified|1    |Prowler    |United States|1988|1988-07-07T00:00:00.000|N            |W            |N          |W          |641           |825         |935            |2100         |572      |8.6000003814697266|135           |480         |137     |2      |2a      |8     |1          |Standard    |Western Gulf of Alaska           |Shumagin Slope      |1.0        |Upper continental slope|0               |1   |101-200m          |101-150m           |137  |1017      |9                |1       |610           |{'latitude': '52.6', 'longitude': '-169.51784'}|{'latitude': '52.46833', 'longitude': '-169.5265'}|null               |null            |null      |null           |null     |null           |null               |\n",
            "|198801       |70           |62            |21720       |3.0       |Pacific cod          |1    |Prowler    |United States|1988|1988-07-07T00:00:00.000|N            |W            |N          |W          |641           |825         |935            |2100         |572      |8.6000003814697266|135           |480         |137     |2      |2a      |8     |1          |Standard    |Western Gulf of Alaska           |Shumagin Slope      |1.0        |Upper continental slope|0               |1   |101-200m          |101-150m           |137  |1017      |9                |1       |610           |{'latitude': '52.6', 'longitude': '-169.51784'}|{'latitude': '52.46833', 'longitude': '-169.5265'}|null               |null            |null      |null           |null     |null           |null               |\n",
            "|198801       |70           |62            |10120       |17.0      |Pacific halibut      |2    |Prowler    |United States|1988|1988-07-07T00:00:00.000|N            |W            |N          |W          |641           |825         |935            |2100         |572      |8.6000003814697266|135           |480         |136     |2      |2a      |5     |0          |Standard    |Western Gulf of Alaska           |Shumagin Slope      |1.0        |Upper continental slope|0               |1   |101-200m          |101-150m           |null |null      |9                |2       |610           |{'latitude': '52.6', 'longitude': '-169.51784'}|{'latitude': '52.46833', 'longitude': '-169.5265'}|null               |null            |null      |null           |null     |null           |null               |\n",
            "+-------------+-------------+--------------+------------+----------+---------------------+-----+-----------+-------------+----+-----------------------+-------------+-------------+-----------+-----------+--------------+------------+---------------+-------------+---------+------------------+--------------+------------+--------+-------+--------+------+-----------+------------+---------------------------------+--------------------+-----------+-----------------------+----------------+----+------------------+-------------------+-----+----------+-----------------+--------+--------------+-----------------------------------------------+--------------------------------------------------+-------------------+----------------+----------+---------------+---------+---------------+-------------------+\n",
            "\n"
          ]
        }
      ]
    },
    {
      "cell_type": "markdown",
      "source": [
        "# Dropping columns with almost 50% missing values"
      ],
      "metadata": {
        "id": "ugABYE9On3Kv"
      }
    },
    {
      "cell_type": "code",
      "source": [
        "# Dropping columns having more than 50% of null values\n",
        "columns_to_drop = ['gear_temperature','rpn_filter','mammal_sighting','tdr_depth','depredated_freq','non_depredated_freq']  # Replace with your actual column names\n",
        "df = df.drop(*columns_to_drop)\n",
        "df = df.na.drop()"
      ],
      "metadata": {
        "id": "u8qoWiM5nwZG"
      },
      "execution_count": 4,
      "outputs": []
    },
    {
      "cell_type": "markdown",
      "source": [
        "# Changing datatype of numerical columns"
      ],
      "metadata": {
        "id": "42AaVvgGn_to"
      }
    },
    {
      "cell_type": "code",
      "source": [
        "df = df.withColumn(\"distance_fished\", col(\"distance_fished\").cast(\"float\"))\n",
        "df = df.withColumn(\"catch_freq\", col(\"catch_freq\").cast(\"float\"))\n",
        "df = df.withColumn(\"hachi\", col(\"hachi\").cast(\"float\"))\n",
        "df = df.withColumn(\"year\", col(\"year\").cast(\"float\"))\n",
        "df = df.withColumn(\"soak_time\", col(\"soak_time\").cast(\"float\"))\n",
        "df = df.withColumn(\"starting_depth\", col(\"starting_depth\").cast(\"float\"))\n",
        "df = df.withColumn(\"ending_depth\", col(\"ending_depth\").cast(\"float\"))\n",
        "df = df.withColumn(\"surface_temperature\", col(\"surface_temperature\").cast(\"float\"))"
      ],
      "metadata": {
        "id": "4qFio1gwoBBi"
      },
      "execution_count": 10,
      "outputs": []
    },
    {
      "cell_type": "code",
      "source": [
        "# Define features\n",
        "feature_columns = [\"distance_fished\", \"hachi\", \"year\", \"soak_time\", \"starting_depth\",\n",
        "                   \"ending_depth\", \"surface_temperature\", \"catch_freq\"]\n",
        "\n",
        "assembler = VectorAssembler(inputCols=feature_columns, outputCol=\"features\")\n",
        "\n",
        "# Define Naive Bayes classifier\n",
        "nb = NaiveBayes(labelCol=\"catch_freq\", featuresCol=\"features\")\n",
        "\n",
        "# Create a pipeline\n",
        "pipeline = Pipeline(stages=[assembler, nb])\n",
        "\n",
        "# Split the data into training and testing sets (adjust the ratio as needed)\n",
        "(training_data, testing_data) = df.randomSplit([0.8, 0.2], seed=1234)\n"
      ],
      "metadata": {
        "id": "kCWumnudg9Zl"
      },
      "execution_count": 27,
      "outputs": []
    },
    {
      "cell_type": "markdown",
      "source": [
        "# Train and Evaluate the Model"
      ],
      "metadata": {
        "id": "8xm_oL4Pk1Ds"
      }
    },
    {
      "cell_type": "code",
      "source": [
        "# Define the label columns\n",
        "label_columns = [\"distance_fished\", \"hachi\", \"year\", \"soak_time\", \"starting_depth\", \"ending_depth\", \"surface_temperature\", \"catch_freq\"]\n",
        "\n",
        "# Combine the label columns into a single column named \"label\" in the testing_data\n",
        "testing_data = testing_data.withColumn(\"label\", col(label_columns[0]).cast(\"double\"))\n",
        "for label_col in label_columns[1:]:\n",
        "    testing_data = testing_data.withColumn(\"label\", testing_data[\"label\"] + col(label_col).cast(\"double\"))\n",
        "\n",
        "# Make predictions on the testing set\n",
        "predictions = model.transform(testing_data)\n",
        "\n",
        "# Evaluate the model\n",
        "evaluator = MulticlassClassificationEvaluator(labelCol=\"label\", predictionCol=\"prediction\", metricName=\"accuracy\")\n",
        "accuracy = evaluator.evaluate(predictions)\n",
        "\n",
        "print(f\"Accuracy: {accuracy}\")\n"
      ],
      "metadata": {
        "colab": {
          "base_uri": "https://localhost:8080/"
        },
        "id": "7NmGQAdasWOz",
        "outputId": "b64b36c4-67eb-4bcf-bc59-8c6397322878"
      },
      "execution_count": 12,
      "outputs": [
        {
          "output_type": "stream",
          "name": "stdout",
          "text": [
            "Accuracy: 1.9622078763024155e-05\n"
          ]
        }
      ]
    },
    {
      "cell_type": "code",
      "source": [
        "testing_data.select(\"label\").distinct().show()\n"
      ],
      "metadata": {
        "colab": {
          "base_uri": "https://localhost:8080/"
        },
        "id": "wi9RlfaftvWD",
        "outputId": "286574e7-636e-4b33-d8f1-8d19a2a8c69e"
      },
      "execution_count": 13,
      "outputs": [
        {
          "output_type": "stream",
          "name": "stdout",
          "text": [
            "+------------------+\n",
            "|             label|\n",
            "+------------------+\n",
            "| 2923.699999809265|\n",
            "|3296.7000002861023|\n",
            "|3731.1000003814697|\n",
            "|3796.4000005722046|\n",
            "| 3940.300000190735|\n",
            "|            3901.0|\n",
            "|            3597.0|\n",
            "| 3253.300000190735|\n",
            "| 2928.000000476837|\n",
            "|3108.7000007629395|\n",
            "|3068.7000007629395|\n",
            "|            2862.0|\n",
            "|            2734.0|\n",
            "|3284.9000005722046|\n",
            "| 3604.000000476837|\n",
            "| 3103.699999809265|\n",
            "| 4529.700000286102|\n",
            "|3468.5999999046326|\n",
            "|3725.2000007629395|\n",
            "|3857.4000005722046|\n",
            "+------------------+\n",
            "only showing top 20 rows\n",
            "\n"
          ]
        }
      ]
    },
    {
      "cell_type": "code",
      "source": [
        "predictions.select(\"prediction\").distinct().show()\n"
      ],
      "metadata": {
        "colab": {
          "base_uri": "https://localhost:8080/"
        },
        "id": "RUaHTU_UtzpT",
        "outputId": "d2636320-bdef-486b-85dc-afc3eef9f42b"
      },
      "execution_count": 14,
      "outputs": [
        {
          "output_type": "stream",
          "name": "stdout",
          "text": [
            "+----------+\n",
            "|prediction|\n",
            "+----------+\n",
            "|     596.0|\n",
            "|    5983.0|\n",
            "|     692.0|\n",
            "|    3901.0|\n",
            "|    5858.0|\n",
            "|    6433.0|\n",
            "|    2862.0|\n",
            "|    2815.0|\n",
            "|    6506.0|\n",
            "|    3739.0|\n",
            "|    5136.0|\n",
            "|    1765.0|\n",
            "|    5607.0|\n",
            "|    2638.0|\n",
            "|     160.0|\n",
            "|    5545.0|\n",
            "|    3882.0|\n",
            "|    4214.0|\n",
            "|    6138.0|\n",
            "|    3108.0|\n",
            "+----------+\n",
            "only showing top 20 rows\n",
            "\n"
          ]
        }
      ]
    }
  ]
}